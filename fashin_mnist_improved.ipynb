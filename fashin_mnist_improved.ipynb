{
  "nbformat": 4,
  "nbformat_minor": 0,
  "metadata": {
    "colab": {
      "name": "fashin_mnist_improved.ipynb",
      "provenance": []
    },
    "kernelspec": {
      "name": "python3",
      "display_name": "Python 3"
    },
    "language_info": {
      "name": "python"
    },
    "accelerator": "GPU"
  },
  "cells": [
    {
      "cell_type": "code",
      "metadata": {
        "id": "h5LTTkL_0xXZ"
      },
      "source": [
        ""
      ],
      "execution_count": null,
      "outputs": []
    },
    {
      "cell_type": "markdown",
      "metadata": {
        "id": "LQJjakJ3WzCJ"
      },
      "source": [
        "# Building CNN with Fashion MNIST data set"
      ]
    },
    {
      "cell_type": "markdown",
      "metadata": {
        "id": "Iunab6q2IRlr"
      },
      "source": [
        "# IMPORTING TENSORFLOW"
      ]
    },
    {
      "cell_type": "code",
      "metadata": {
        "colab": {
          "base_uri": "https://localhost:8080/"
        },
        "id": "ypTF-K1X0ynJ",
        "outputId": "c4ace788-8abc-4f77-929d-88b3157b2d44"
      },
      "source": [
        "import tensorflow as tf\n",
        "print(tf.__version__)"
      ],
      "execution_count": 1,
      "outputs": [
        {
          "output_type": "stream",
          "name": "stdout",
          "text": [
            "2.7.0\n"
          ]
        }
      ]
    },
    {
      "cell_type": "markdown",
      "metadata": {
        "id": "OsHcjLF4IbjI"
      },
      "source": [
        "# Importing libraries"
      ]
    },
    {
      "cell_type": "code",
      "metadata": {
        "id": "Bh1ZNBJN0y9k"
      },
      "source": [
        "import numpy as np\n",
        "import matplotlib.pyplot as plt\n",
        "from tensorflow.keras.layers import Input, Conv2D, Dense, Flatten, Dropout,BatchNormalization\n",
        "from tensorflow.keras.models import Model"
      ],
      "execution_count": 2,
      "outputs": []
    },
    {
      "cell_type": "markdown",
      "metadata": {
        "id": "nHaS0T7GInol"
      },
      "source": [
        "# Loading Fashion_mnist data set"
      ]
    },
    {
      "cell_type": "code",
      "metadata": {
        "id": "CHxMRRCu0zDq"
      },
      "source": [
        "fashion_mnist = tf.keras.datasets.fashion_mnist"
      ],
      "execution_count": 3,
      "outputs": []
    },
    {
      "cell_type": "markdown",
      "metadata": {
        "id": "SG1CpZ2kIzZK"
      },
      "source": [
        "# Dividing the dataset into train and test set"
      ]
    },
    {
      "cell_type": "code",
      "metadata": {
        "id": "csRkPXUT0zLB"
      },
      "source": [
        "(x_train, y_train), (x_test, y_test) = fashion_mnist.load_data()"
      ],
      "execution_count": 4,
      "outputs": []
    },
    {
      "cell_type": "markdown",
      "metadata": {
        "id": "hMDiFGawI9XB"
      },
      "source": [
        "# Scaling the train and test data set"
      ]
    },
    {
      "cell_type": "code",
      "metadata": {
        "id": "fH8u3q-z1jZa"
      },
      "source": [
        "x_train, x_test = x_train/255.0, x_test/255.0"
      ],
      "execution_count": 5,
      "outputs": []
    },
    {
      "cell_type": "code",
      "metadata": {
        "colab": {
          "base_uri": "https://localhost:8080/"
        },
        "id": "8JuoV2Lf1jgd",
        "outputId": "c41c1986-a2ea-4d21-86e1-d34af5b38316"
      },
      "source": [
        "x_train.shape "
      ],
      "execution_count": 6,
      "outputs": [
        {
          "output_type": "execute_result",
          "data": {
            "text/plain": [
              "(60000, 28, 28)"
            ]
          },
          "metadata": {},
          "execution_count": 6
        }
      ]
    },
    {
      "cell_type": "code",
      "metadata": {
        "colab": {
          "base_uri": "https://localhost:8080/"
        },
        "id": "n8yCwnTR1jpx",
        "outputId": "6e721a1d-63d6-44b1-ef24-2fc150888898"
      },
      "source": [
        "# Convolution expects NxHxWxC\n",
        "x_train = np.expand_dims(x_train, -1)\n",
        "x_test = np.expand_dims(x_test, -1)\n",
        "print(x_train.shape)"
      ],
      "execution_count": 7,
      "outputs": [
        {
          "output_type": "stream",
          "name": "stdout",
          "text": [
            "(60000, 28, 28, 1)\n"
          ]
        }
      ]
    },
    {
      "cell_type": "code",
      "metadata": {
        "colab": {
          "base_uri": "https://localhost:8080/"
        },
        "id": "mtOfw2eN11k2",
        "outputId": "742e631f-7f7f-48a4-a939-faee15c0ad77"
      },
      "source": [
        "# Number of classes\n",
        "\n",
        "K = len(set(y_train))\n",
        "print(\"Number of classes:\",K)"
      ],
      "execution_count": 8,
      "outputs": [
        {
          "output_type": "stream",
          "name": "stdout",
          "text": [
            "Number of classes: 10\n"
          ]
        }
      ]
    },
    {
      "cell_type": "code",
      "metadata": {
        "colab": {
          "base_uri": "https://localhost:8080/"
        },
        "id": "f9tHqhH411pW",
        "outputId": "52032353-8ffe-4139-e815-6a4ec1b2be7d"
      },
      "source": [
        "x_train.shape"
      ],
      "execution_count": 9,
      "outputs": [
        {
          "output_type": "execute_result",
          "data": {
            "text/plain": [
              "(60000, 28, 28, 1)"
            ]
          },
          "metadata": {},
          "execution_count": 9
        }
      ]
    },
    {
      "cell_type": "markdown",
      "metadata": {
        "id": "jvAENzbEJHHO"
      },
      "source": [
        "# Model Building"
      ]
    },
    {
      "cell_type": "code",
      "metadata": {
        "id": "K_LoEIVdOpp3"
      },
      "source": [
        "# Build the model using the Functional API\n",
        "\n",
        "i = Input(shape= x_train[0].shape)\n",
        "x = Conv2D(32, (3,3), strides=2, activation='relu')(i)\n",
        "x = BatchNormalization()(x)\n",
        "x = Conv2D(64, (3,3), strides=2, activation='relu')(x)\n",
        "x = BatchNormalization()(x)\n",
        "x = Conv2D(128, (3,3), strides=2, activation='relu')(x)\n",
        "x = BatchNormalization()(x)\n",
        "x = Flatten()(x)\n",
        "x = Dropout(0.2)(x)\n",
        "x = Dense(512, activation='relu')(x)\n",
        "x = Dropout(0.2)(x)\n",
        "x = Dense(K, activation='softmax')(x)\n",
        "\n",
        "model = Model(i, x)"
      ],
      "execution_count": 10,
      "outputs": []
    },
    {
      "cell_type": "markdown",
      "metadata": {
        "id": "0tSPswu-VT_T"
      },
      "source": [
        ""
      ]
    },
    {
      "cell_type": "markdown",
      "metadata": {
        "id": "TuQcRqAIJd2K"
      },
      "source": [
        "# Compiling the model"
      ]
    },
    {
      "cell_type": "code",
      "metadata": {
        "id": "PTxK8fedHfXC"
      },
      "source": [
        "# Compile and fit\n",
        "\n",
        "model.compile(optimizer='adam',\n",
        "              loss= 'sparse_categorical_crossentropy',\n",
        "              metrics= ['accuracy'])"
      ],
      "execution_count": 11,
      "outputs": []
    },
    {
      "cell_type": "markdown",
      "metadata": {
        "id": "yoU2AldpJmpg"
      },
      "source": [
        "# Data augmentation is performed to avoid overfitting and improve the accuracy."
      ]
    },
    {
      "cell_type": "code",
      "metadata": {
        "colab": {
          "base_uri": "https://localhost:8080/"
        },
        "id": "FX74-auUG0J0",
        "outputId": "062be534-978f-4300-93c3-06a813dcb37b"
      },
      "source": [
        "\n",
        "batch_size = 32\n",
        "data_generator = tf.keras.preprocessing.image.ImageDataGenerator(width_shift_range=0.1, height_shift_range=0.1, horizontal_flip=True)\n",
        "train_generator = data_generator.flow(x_train, y_train, batch_size)\n",
        "steps_per_epoch = x_train.shape[0] // batch_size\n",
        "# Training the model\n",
        "r = model.fit_generator(train_generator, validation_data=(x_test, y_test), steps_per_epoch=steps_per_epoch, epochs=50)"
      ],
      "execution_count": 12,
      "outputs": [
        {
          "output_type": "stream",
          "name": "stderr",
          "text": [
            "/usr/local/lib/python3.7/dist-packages/ipykernel_launcher.py:7: UserWarning: `Model.fit_generator` is deprecated and will be removed in a future version. Please use `Model.fit`, which supports generators.\n",
            "  import sys\n"
          ]
        },
        {
          "output_type": "stream",
          "name": "stdout",
          "text": [
            "Epoch 1/50\n",
            "1875/1875 [==============================] - 34s 17ms/step - loss: 0.6799 - accuracy: 0.7456 - val_loss: 0.5203 - val_accuracy: 0.8000\n",
            "Epoch 2/50\n",
            "1875/1875 [==============================] - 32s 17ms/step - loss: 0.5188 - accuracy: 0.8045 - val_loss: 0.4814 - val_accuracy: 0.8113\n",
            "Epoch 3/50\n",
            "1875/1875 [==============================] - 32s 17ms/step - loss: 0.4747 - accuracy: 0.8207 - val_loss: 0.4233 - val_accuracy: 0.8442\n",
            "Epoch 4/50\n",
            "1875/1875 [==============================] - 32s 17ms/step - loss: 0.4416 - accuracy: 0.8349 - val_loss: 0.3805 - val_accuracy: 0.8608\n",
            "Epoch 5/50\n",
            "1875/1875 [==============================] - 32s 17ms/step - loss: 0.4273 - accuracy: 0.8407 - val_loss: 0.3944 - val_accuracy: 0.8519\n",
            "Epoch 6/50\n",
            "1875/1875 [==============================] - 32s 17ms/step - loss: 0.4085 - accuracy: 0.8476 - val_loss: 0.4193 - val_accuracy: 0.8392\n",
            "Epoch 7/50\n",
            "1875/1875 [==============================] - 32s 17ms/step - loss: 0.3993 - accuracy: 0.8515 - val_loss: 0.3932 - val_accuracy: 0.8574\n",
            "Epoch 8/50\n",
            "1875/1875 [==============================] - 31s 17ms/step - loss: 0.3872 - accuracy: 0.8566 - val_loss: 0.4315 - val_accuracy: 0.8289\n",
            "Epoch 9/50\n",
            "1875/1875 [==============================] - 32s 17ms/step - loss: 0.3755 - accuracy: 0.8600 - val_loss: 0.3391 - val_accuracy: 0.8737\n",
            "Epoch 10/50\n",
            "1875/1875 [==============================] - 31s 17ms/step - loss: 0.3685 - accuracy: 0.8633 - val_loss: 0.3260 - val_accuracy: 0.8789\n",
            "Epoch 11/50\n",
            "1875/1875 [==============================] - 31s 16ms/step - loss: 0.3587 - accuracy: 0.8641 - val_loss: 0.3449 - val_accuracy: 0.8716\n",
            "Epoch 12/50\n",
            "1875/1875 [==============================] - 31s 17ms/step - loss: 0.3551 - accuracy: 0.8676 - val_loss: 0.3225 - val_accuracy: 0.8820\n",
            "Epoch 13/50\n",
            "1875/1875 [==============================] - 31s 17ms/step - loss: 0.3487 - accuracy: 0.8691 - val_loss: 0.3100 - val_accuracy: 0.8863\n",
            "Epoch 14/50\n",
            "1875/1875 [==============================] - 31s 17ms/step - loss: 0.3436 - accuracy: 0.8710 - val_loss: 0.3203 - val_accuracy: 0.8826\n",
            "Epoch 15/50\n",
            "1875/1875 [==============================] - 31s 17ms/step - loss: 0.3411 - accuracy: 0.8722 - val_loss: 0.3176 - val_accuracy: 0.8800\n",
            "Epoch 16/50\n",
            "1875/1875 [==============================] - 31s 17ms/step - loss: 0.3341 - accuracy: 0.8747 - val_loss: 0.3283 - val_accuracy: 0.8759\n",
            "Epoch 17/50\n",
            "1875/1875 [==============================] - 32s 17ms/step - loss: 0.3291 - accuracy: 0.8776 - val_loss: 0.3312 - val_accuracy: 0.8780\n",
            "Epoch 18/50\n",
            "1875/1875 [==============================] - 31s 17ms/step - loss: 0.3226 - accuracy: 0.8799 - val_loss: 0.3058 - val_accuracy: 0.8872\n",
            "Epoch 19/50\n",
            "1875/1875 [==============================] - 31s 17ms/step - loss: 0.3218 - accuracy: 0.8784 - val_loss: 0.3037 - val_accuracy: 0.8877\n",
            "Epoch 20/50\n",
            "1875/1875 [==============================] - 31s 17ms/step - loss: 0.3174 - accuracy: 0.8806 - val_loss: 0.3136 - val_accuracy: 0.8815\n",
            "Epoch 21/50\n",
            "1875/1875 [==============================] - 32s 17ms/step - loss: 0.3152 - accuracy: 0.8816 - val_loss: 0.2938 - val_accuracy: 0.8936\n",
            "Epoch 22/50\n",
            "1875/1875 [==============================] - 31s 17ms/step - loss: 0.3128 - accuracy: 0.8829 - val_loss: 0.3045 - val_accuracy: 0.8869\n",
            "Epoch 23/50\n",
            "1875/1875 [==============================] - 31s 17ms/step - loss: 0.3129 - accuracy: 0.8826 - val_loss: 0.2966 - val_accuracy: 0.8911\n",
            "Epoch 24/50\n",
            "1875/1875 [==============================] - 31s 17ms/step - loss: 0.3076 - accuracy: 0.8846 - val_loss: 0.2855 - val_accuracy: 0.8921\n",
            "Epoch 25/50\n",
            "1875/1875 [==============================] - 31s 16ms/step - loss: 0.3108 - accuracy: 0.8842 - val_loss: 0.2945 - val_accuracy: 0.8939\n",
            "Epoch 26/50\n",
            "1875/1875 [==============================] - 31s 17ms/step - loss: 0.3043 - accuracy: 0.8863 - val_loss: 0.2891 - val_accuracy: 0.8909\n",
            "Epoch 27/50\n",
            "1875/1875 [==============================] - 31s 17ms/step - loss: 0.3015 - accuracy: 0.8871 - val_loss: 0.2720 - val_accuracy: 0.8989\n",
            "Epoch 28/50\n",
            "1875/1875 [==============================] - 31s 16ms/step - loss: 0.2990 - accuracy: 0.8884 - val_loss: 0.2832 - val_accuracy: 0.8954\n",
            "Epoch 29/50\n",
            "1875/1875 [==============================] - 31s 17ms/step - loss: 0.2973 - accuracy: 0.8887 - val_loss: 0.3320 - val_accuracy: 0.8788\n",
            "Epoch 30/50\n",
            "1875/1875 [==============================] - 31s 17ms/step - loss: 0.2961 - accuracy: 0.8892 - val_loss: 0.2798 - val_accuracy: 0.8954\n",
            "Epoch 31/50\n",
            "1875/1875 [==============================] - 31s 17ms/step - loss: 0.2957 - accuracy: 0.8899 - val_loss: 0.2724 - val_accuracy: 0.8978\n",
            "Epoch 32/50\n",
            "1875/1875 [==============================] - 31s 17ms/step - loss: 0.2946 - accuracy: 0.8913 - val_loss: 0.2657 - val_accuracy: 0.9020\n",
            "Epoch 33/50\n",
            "1875/1875 [==============================] - 31s 17ms/step - loss: 0.2901 - accuracy: 0.8914 - val_loss: 0.2763 - val_accuracy: 0.8989\n",
            "Epoch 34/50\n",
            "1875/1875 [==============================] - 31s 17ms/step - loss: 0.2867 - accuracy: 0.8934 - val_loss: 0.2682 - val_accuracy: 0.9035\n",
            "Epoch 35/50\n",
            "1875/1875 [==============================] - 31s 17ms/step - loss: 0.2888 - accuracy: 0.8918 - val_loss: 0.2705 - val_accuracy: 0.9021\n",
            "Epoch 36/50\n",
            "1875/1875 [==============================] - 31s 17ms/step - loss: 0.2863 - accuracy: 0.8927 - val_loss: 0.2763 - val_accuracy: 0.8985\n",
            "Epoch 37/50\n",
            "1875/1875 [==============================] - 31s 16ms/step - loss: 0.2837 - accuracy: 0.8931 - val_loss: 0.2695 - val_accuracy: 0.8997\n",
            "Epoch 38/50\n",
            "1875/1875 [==============================] - 31s 17ms/step - loss: 0.2833 - accuracy: 0.8928 - val_loss: 0.2607 - val_accuracy: 0.9051\n",
            "Epoch 39/50\n",
            "1875/1875 [==============================] - 31s 17ms/step - loss: 0.2821 - accuracy: 0.8953 - val_loss: 0.2709 - val_accuracy: 0.9019\n",
            "Epoch 40/50\n",
            "1875/1875 [==============================] - 31s 17ms/step - loss: 0.2840 - accuracy: 0.8930 - val_loss: 0.2833 - val_accuracy: 0.8979\n",
            "Epoch 41/50\n",
            "1875/1875 [==============================] - 31s 16ms/step - loss: 0.2781 - accuracy: 0.8972 - val_loss: 0.2693 - val_accuracy: 0.9021\n",
            "Epoch 42/50\n",
            "1875/1875 [==============================] - 31s 17ms/step - loss: 0.2804 - accuracy: 0.8944 - val_loss: 0.2860 - val_accuracy: 0.9006\n",
            "Epoch 43/50\n",
            "1875/1875 [==============================] - 31s 17ms/step - loss: 0.2782 - accuracy: 0.8953 - val_loss: 0.2815 - val_accuracy: 0.8969\n",
            "Epoch 44/50\n",
            "1875/1875 [==============================] - 31s 17ms/step - loss: 0.2754 - accuracy: 0.8958 - val_loss: 0.2689 - val_accuracy: 0.9042\n",
            "Epoch 45/50\n",
            "1875/1875 [==============================] - 31s 17ms/step - loss: 0.2774 - accuracy: 0.8967 - val_loss: 0.2621 - val_accuracy: 0.9067\n",
            "Epoch 46/50\n",
            "1875/1875 [==============================] - 31s 17ms/step - loss: 0.2716 - accuracy: 0.8981 - val_loss: 0.2601 - val_accuracy: 0.9080\n",
            "Epoch 47/50\n",
            "1875/1875 [==============================] - 31s 17ms/step - loss: 0.2733 - accuracy: 0.8968 - val_loss: 0.2739 - val_accuracy: 0.8992\n",
            "Epoch 48/50\n",
            "1875/1875 [==============================] - 31s 17ms/step - loss: 0.2694 - accuracy: 0.8985 - val_loss: 0.2726 - val_accuracy: 0.8992\n",
            "Epoch 49/50\n",
            "1875/1875 [==============================] - 31s 17ms/step - loss: 0.2742 - accuracy: 0.8971 - val_loss: 0.2644 - val_accuracy: 0.9031\n",
            "Epoch 50/50\n",
            "1875/1875 [==============================] - 32s 17ms/step - loss: 0.2701 - accuracy: 0.8996 - val_loss: 0.2830 - val_accuracy: 0.8948\n"
          ]
        }
      ]
    },
    {
      "cell_type": "markdown",
      "metadata": {
        "id": "0KrAxA4tVVw7"
      },
      "source": [
        "Model is not overfitting .Overfitting problem is fixed"
      ]
    },
    {
      "cell_type": "code",
      "metadata": {
        "id": "16PdMtvBVkQh"
      },
      "source": [
        ""
      ],
      "execution_count": null,
      "outputs": []
    },
    {
      "cell_type": "markdown",
      "metadata": {
        "id": "HecBWPbeVuiU"
      },
      "source": [
        "# Plotting the loss per iteration"
      ]
    },
    {
      "cell_type": "code",
      "metadata": {
        "colab": {
          "base_uri": "https://localhost:8080/",
          "height": 269
        },
        "id": "q7s7_-p-VkWs",
        "outputId": "5401f713-f7b1-47f5-cb5c-7727a2bddd75"
      },
      "source": [
        "import matplotlib.pyplot as plt\n",
        "plt.plot(r.history['loss'], label='loss')\n",
        "plt.plot(r.history['val_loss'], label='val_loss')\n",
        "plt.legend()\n",
        "plt.show()"
      ],
      "execution_count": 14,
      "outputs": [
        {
          "output_type": "display_data",
          "data": {
            "image/png": "[encoded data removed]",
            "text/plain": [
              "<Figure size 432x288 with 1 Axes>"
            ]
          },
          "metadata": {
            "needs_background": "light"
          }
        }
      ]
    },
    {
      "cell_type": "markdown",
      "metadata": {
        "id": "WtSiULk8V8ln"
      },
      "source": [
        "# Plotting the accuracy per iteration"
      ]
    },
    {
      "cell_type": "code",
      "metadata": {
        "colab": {
          "base_uri": "https://localhost:8080/",
          "height": 265
        },
        "id": "vUlb7G56VeGE",
        "outputId": "d4259e04-9794-4c83-8ce7-ac543f5a27df"
      },
      "source": [
        "plt.plot(r.history['accuracy'], label='acc')\n",
        "plt.plot(r.history['val_accuracy'], label='val_acc')\n",
        "plt.legend()\n",
        "plt.show()"
      ],
      "execution_count": 15,
      "outputs": [
        {
          "output_type": "display_data",
          "data": {
            "image/png": "[encoded data removed]",
            "text/plain": [
              "<Figure size 432x288 with 1 Axes>"
            ]
          },
          "metadata": {
            "needs_background": "light"
          }
        }
      ]
    },
    {
      "cell_type": "code",
      "metadata": {
        "id": "tPo2EKGVWPRQ"
      },
      "source": [
        ""
      ],
      "execution_count": null,
      "outputs": []
    }
  ]
}